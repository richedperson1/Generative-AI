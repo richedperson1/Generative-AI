{
 "cells": [
  {
   "cell_type": "code",
   "execution_count": 109,
   "metadata": {},
   "outputs": [],
   "source": [
    "# Import things that are needed generically\n",
    "from langchain.pydantic_v1 import BaseModel, Field\n",
    "from langchain.tools import BaseTool, StructuredTool, tool\n",
    "import os\n",
    "from langchain_core.prompts import ChatPromptTemplate\n",
    "from langchain_groq import ChatGroq\n",
    "from langchain.agents import AgentExecutor, create_tool_calling_agent\n",
    "from langchain_community.tools.tavily_search import TavilySearchResults\n",
    "from langchain_core.prompts import ChatPromptTemplate\n",
    "# from langchain_core.output_parsers.openai_tools import PydanticToolsParser\n",
    "# from langchain_core.messages import HumanMessage, ToolMessage\n",
    "from langchain_core.prompts import PromptTemplate\n",
    "from langchain.agents import initialize_agent\n",
    "# Instantiation using from_template (recommended)\n",
    "import random\n",
    "from langchain.agents import AgentType\n"
   ]
  },
  {
   "cell_type": "code",
   "execution_count": null,
   "metadata": {},
   "outputs": [],
   "source": []
  },
  {
   "cell_type": "code",
   "execution_count": 122,
   "metadata": {},
   "outputs": [],
   "source": [
    "GROQ_API_KEY = \"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\"\n",
    "\n",
    "os.environ[\"GROQ_API_KEY\"] = GROQ_API_KEY\n",
    "chat = ChatGroq(temperature=0, model_name=\"mixtral-8x7b-32768\")\n",
    "\n"
   ]
  },
  {
   "cell_type": "code",
   "execution_count": 123,
   "metadata": {},
   "outputs": [],
   "source": [
    "\n",
    "\n"
   ]
  },
  {
   "cell_type": "code",
   "execution_count": 124,
   "metadata": {},
   "outputs": [],
   "source": [
    "length_llm = chat.bind_tools([get_word_length,random_num])"
   ]
  },
  {
   "cell_type": "code",
   "execution_count": null,
   "metadata": {},
   "outputs": [],
   "source": [
    "word_problem_template = \"\"\"You are a reasoning agent tasked with solving t he user's logic-based questions. Logically arrive at the solution, and be factual. In your answers, clearly detail the steps involved and give the final answer. Provide the response in bullet points. Question  {question} Answer\"\"\"\n"
   ]
  },
  {
   "cell_type": "code",
   "execution_count": 125,
   "metadata": {},
   "outputs": [],
   "source": [
    "from langchain.chains import LLMMathChain, LLMChain\n",
    "from langchain.prompts import PromptTemplate\n",
    "from langchain_community.utilities import WikipediaAPIWrapper\n",
    "from langchain.agents.agent_types import AgentType\n",
    "from langchain.agents import Tool, initialize_agent"
   ]
  },
  {
   "cell_type": "code",
   "execution_count": 126,
   "metadata": {},
   "outputs": [],
   "source": [
    "def get_word_length(word: str) -> int:\n",
    "    \"\"\"Returns the length of a word.\"\"\"\n",
    "    return len(word)\n",
    "\n",
    "\n",
    "# @tool\n",
    "def multiply(a: int,b:int) -> int:\n",
    "    \"\"\"Multiply two given number a and b \"\"\"\n",
    "    return a * b\n",
    "\n",
    "# @tool\n",
    "def random_num():\n",
    "    \"It create the random number from 0 to 5\"\n",
    "    return random.randint(0,5)\n",
    "\n",
    "# @tool\n",
    "def get_word_length(word: str) -> int:\n",
    "    \"\"\"Returns the length of a word.\"\"\"\n",
    "    return len(word)"
   ]
  },
  {
   "cell_type": "code",
   "execution_count": 131,
   "metadata": {},
   "outputs": [],
   "source": [
    "string_length = Tool(\n",
    "        name=\"find_length\",\n",
    "        func=get_word_length,\n",
    "        description=\"A useful tool for finding the length of the a words\",)\n",
    "\n",
    "random_number_generator = Tool(\n",
    "        name=\"random number\",\n",
    "        func=random_num,\n",
    "        description=\"It create the random number from 0 to 5\",)\n",
    "\n",
    "\n",
    "\n",
    "\n",
    "agent = initialize_agent(\n",
    "    tools=[string_length,random_number_generator],\n",
    "    llm=length_llm,\n",
    "    agent=AgentType.ZERO_SHOT_REACT_DESCRIPTION,\n",
    "#     verbose=True,\n",
    "    handle_parsing_errors=True,\n",
    "    \n",
    "    \n",
    ")"
   ]
  },
  {
   "cell_type": "code",
   "execution_count": 132,
   "metadata": {},
   "outputs": [
    {
     "name": "stdout",
     "output_type": "stream",
     "text": [
      "\n",
      "\n",
      "\u001b[1m> Entering new AgentExecutor chain...\u001b[0m\n",
      "\u001b[32;1m\u001b[1;3mThe user is asking for the length of the word \"rutvik\". I can use the \"find\\_length\" tool to find the answer.\n",
      "\n",
      "Action: find\\_length\n",
      "Action Input: rutvik\u001b[0m\n",
      "Observation: find\\_length is not a valid tool, try one of [find_length, random number].\n",
      "Thought:\u001b[32;1m\u001b[1;3mThe user is asking for the length of the word \"rutvik\". The available tool for finding the length of a word is \"find\\_length\". I will use this tool with \"rutvik\" as the input.\n",
      "\n",
      "Action: find\\_length\n",
      "Action Input: \"rutvik\"\u001b[0m\n",
      "Observation: find\\_length is not a valid tool, try one of [find_length, random number].\n",
      "Thought:\u001b[32;1m\u001b[1;3mThe user is asking for the length of the word \"rutvik\". The available tool for finding the length of a word is \"find\\_length\". However, it seems that this tool is not recognized. As an alternative, I can use a Python function to find the length of the word.\n",
      "\n",
      "Action: None\n",
      "Action Input: None\u001b[0m\n",
      "Observation: None is not a valid tool, try one of [find_length, random number].\n",
      "Thought:\u001b[32;1m\u001b[1;3mThe user is asking for the length of the word \"rutvik\". I can use a built-in Python function to find the answer.\n",
      "\n",
      "Action: None\n",
      "Action Input: None\u001b[0m\n",
      "Observation: None is not a valid tool, try one of [find_length, random number].\n",
      "Thought:\u001b[32;1m\u001b[1;3mThe user is asking for the length of the word \"rutvik\". I can use the built-in `len()` function in Python to find the answer.\n",
      "\n",
      "Action: None\n",
      "Action Input: \"rutvik\"\u001b[0m\n",
      "Observation: None is not a valid tool, try one of [find_length, random number].\n",
      "Thought:\u001b[32;1m\u001b[1;3mThe user is asking for the length of the word \"rutvik\". I can use the built-in `len()` function in Python to find the answer.\n",
      "\n",
      "Action: None\n",
      "Action Input: len(\"rutvik\")\u001b[0m\n",
      "Observation: None is not a valid tool, try one of [find_length, random number].\n",
      "Thought:\u001b[32;1m\u001b[1;3mThought: The user is asking for the length of the word \"rutvik\". I can use the built-in `len()` function in Python to find the answer.\n",
      "\n",
      "Final Answer: The length of the word \"rutvik\" is 6.\u001b[0m\n",
      "\n",
      "\u001b[1m> Finished chain.\u001b[0m\n"
     ]
    },
    {
     "data": {
      "text/plain": [
       "{'input': 'what is length rutvik?',\n",
       " 'output': 'The length of the word \"rutvik\" is 6.'}"
      ]
     },
     "execution_count": 132,
     "metadata": {},
     "output_type": "execute_result"
    }
   ],
   "source": [
    "agent.invoke({\"input\":\"create the random number and length of the rutvik ?\"})"
   ]
  }
 ],
 "metadata": {
  "kernelspec": {
   "display_name": "Python 3",
   "language": "python",
   "name": "python3"
  },
  "language_info": {
   "codemirror_mode": {
    "name": "ipython",
    "version": 3
   },
   "file_extension": ".py",
   "mimetype": "text/x-python",
   "name": "python",
   "nbconvert_exporter": "python",
   "pygments_lexer": "ipython3",
   "version": "3.12.4"
  }
 },
 "nbformat": 4,
 "nbformat_minor": 2
}
