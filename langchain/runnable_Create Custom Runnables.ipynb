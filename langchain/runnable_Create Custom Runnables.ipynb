{
 "cells": [
  {
   "cell_type": "markdown",
   "metadata": {},
   "source": [
    "## Runnable lambda"
   ]
  },
  {
   "cell_type": "code",
   "execution_count": 2,
   "metadata": {},
   "outputs": [],
   "source": [
    "from langchain_core.runnables import RunnablePassthrough,Runnable,RunnableLambda"
   ]
  },
  {
   "cell_type": "code",
   "execution_count": 3,
   "metadata": {},
   "outputs": [],
   "source": [
    "def function_yp(string:str)->str:\n",
    "    return string.upper()    "
   ]
  },
  {
   "cell_type": "code",
   "execution_count": 6,
   "metadata": {},
   "outputs": [
    {
     "data": {
      "text/plain": [
       "'HI'"
      ]
     },
     "execution_count": 6,
     "metadata": {},
     "output_type": "execute_result"
    }
   ],
   "source": [
    "def function_yp(string:str)->str:\n",
    "    return string.upper()    \n",
    "\n",
    "chains = RunnablePassthrough()|RunnableLambda(function_yp)\n",
    "chains.invoke(\"hi\")"
   ]
  },
  {
   "cell_type": "markdown",
   "metadata": {},
   "source": [
    "## Custome runnable"
   ]
  },
  {
   "cell_type": "code",
   "execution_count": 9,
   "metadata": {},
   "outputs": [],
   "source": [
    "from typing import Callable,TypeVar,Optional,Union,Any"
   ]
  },
  {
   "cell_type": "code",
   "execution_count": 10,
   "metadata": {},
   "outputs": [],
   "source": [
    "Input = TypeVar(\"Input\")\n",
    "Output = TypeVar(\"Output\")\n",
    "class CondtionalRun(Runnable):\n",
    "    def __init__(self,\n",
    "                 condition:Union[Callable[[Input],bool],bool],\n",
    "                 func:Callable[[Input],bool],\n",
    "                 name:Optional[str] = None):\n",
    "        \n",
    "        self.condition = condition\n",
    "        self.func = func\n",
    "        self.name = name or \"CondtionalRunnable\""
   ]
  },
  {
   "cell_type": "code",
   "execution_count": null,
   "metadata": {},
   "outputs": [],
   "source": [
    "from typing import Callable,TypeVar,Optional,Union,Any\n",
    "from langchain_core.runnables import RunnablePassthrough,Runnable,RunnableLambda\n",
    "\n",
    "\n",
    "Input = TypeVar(\"Input\")\n",
    "Output = TypeVar(\"Output\")\n",
    "class CondtionalRun(Runnable):\n",
    "    def __init__(self,\n",
    "                 condition:Union[Callable[[Input],bool],bool],\n",
    "                 func:Callable[[Input],bool],\n",
    "                 name:Optional[str] = None):\n",
    "        \n",
    "        self.condition = condition\n",
    "        self.func = func\n",
    "        self.name = name or \"CondtionalRunnable\""
   ]
  },
  {
   "cell_type": "code",
   "execution_count": 18,
   "metadata": {},
   "outputs": [],
   "source": [
    "condition:Union[Callable[[Input],bool],bool] = lambda x : x+5"
   ]
  },
  {
   "cell_type": "code",
   "execution_count": 23,
   "metadata": {},
   "outputs": [],
   "source": [
    "# Callable(condition)"
   ]
  }
 ],
 "metadata": {
  "kernelspec": {
   "display_name": "Python 3",
   "language": "python",
   "name": "python3"
  },
  "language_info": {
   "codemirror_mode": {
    "name": "ipython",
    "version": 3
   },
   "file_extension": ".py",
   "mimetype": "text/x-python",
   "name": "python",
   "nbconvert_exporter": "python",
   "pygments_lexer": "ipython3",
   "version": "3.12.4"
  }
 },
 "nbformat": 4,
 "nbformat_minor": 2
}
